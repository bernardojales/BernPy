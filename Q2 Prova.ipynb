{
 "cells": [
  {
   "cell_type": "code",
   "execution_count": 1,
   "id": "4fd22693",
   "metadata": {},
   "outputs": [],
   "source": [
    "import numpy as np\n",
    "import pandas as pd"
   ]
  },
  {
   "cell_type": "code",
   "execution_count": 2,
   "id": "c16a0c7a",
   "metadata": {},
   "outputs": [],
   "source": [
    "dados = np.arange(10)"
   ]
  },
  {
   "cell_type": "code",
   "execution_count": 3,
   "id": "78f7163a",
   "metadata": {},
   "outputs": [
    {
     "data": {
      "text/plain": [
       "array([[0, 1, 2, 3, 4],\n",
       "       [5, 6, 7, 8, 9]])"
      ]
     },
     "execution_count": 3,
     "metadata": {},
     "output_type": "execute_result"
    }
   ],
   "source": [
    "dados.reshape(2,5)\n"
   ]
  },
  {
   "cell_type": "code",
   "execution_count": 4,
   "id": "67becf06",
   "metadata": {},
   "outputs": [],
   "source": [
    "indices = ['l1', 'l2', 'l3', 'l4', 'l5', 'l6', 'l7', 'l8', 'l9', 'l10']"
   ]
  },
  {
   "cell_type": "code",
   "execution_count": 15,
   "id": "c840e633",
   "metadata": {},
   "outputs": [],
   "source": [
    "conjunto = pd.Series(dados, index=indices)"
   ]
  },
  {
   "cell_type": "code",
   "execution_count": 16,
   "id": "41612f89",
   "metadata": {},
   "outputs": [
    {
     "name": "stdout",
     "output_type": "stream",
     "text": [
      "2\n"
     ]
    }
   ],
   "source": [
    "print(conjunto['l3'])"
   ]
  },
  {
   "cell_type": "code",
   "execution_count": null,
   "id": "6118ee36",
   "metadata": {},
   "outputs": [],
   "source": []
  }
 ],
 "metadata": {
  "kernelspec": {
   "display_name": "Python 3",
   "language": "python",
   "name": "python3"
  },
  "language_info": {
   "codemirror_mode": {
    "name": "ipython",
    "version": 3
   },
   "file_extension": ".py",
   "mimetype": "text/x-python",
   "name": "python",
   "nbconvert_exporter": "python",
   "pygments_lexer": "ipython3",
   "version": "3.8.8"
  }
 },
 "nbformat": 4,
 "nbformat_minor": 5
}
