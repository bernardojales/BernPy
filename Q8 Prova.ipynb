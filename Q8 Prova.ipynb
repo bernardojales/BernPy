{
 "cells": [
  {
   "cell_type": "code",
   "execution_count": 4,
   "id": "46a912fd",
   "metadata": {},
   "outputs": [],
   "source": [
    "import pandas as pd\n",
    "import numpy as np"
   ]
  },
  {
   "cell_type": "code",
   "execution_count": 13,
   "id": "d418c4df",
   "metadata": {},
   "outputs": [],
   "source": [
    "s1=pd.Series([3,4,np.nan,44,67])"
   ]
  },
  {
   "cell_type": "code",
   "execution_count": 9,
   "id": "c3339e04",
   "metadata": {},
   "outputs": [
    {
     "name": "stdout",
     "output_type": "stream",
     "text": [
      "0     3.0\n",
      "1     4.0\n",
      "2     NaN\n",
      "3    44.0\n",
      "4    67.0\n",
      "dtype: float64\n"
     ]
    }
   ],
   "source": [
    "print(s1)"
   ]
  },
  {
   "cell_type": "code",
   "execution_count": null,
   "id": "3914171b",
   "metadata": {},
   "outputs": [],
   "source": []
  }
 ],
 "metadata": {
  "kernelspec": {
   "display_name": "Python 3",
   "language": "python",
   "name": "python3"
  },
  "language_info": {
   "codemirror_mode": {
    "name": "ipython",
    "version": 3
   },
   "file_extension": ".py",
   "mimetype": "text/x-python",
   "name": "python",
   "nbconvert_exporter": "python",
   "pygments_lexer": "ipython3",
   "version": "3.8.8"
  }
 },
 "nbformat": 4,
 "nbformat_minor": 5
}
