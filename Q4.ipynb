{
 "cells": [
  {
   "cell_type": "code",
   "execution_count": 2,
   "id": "f3785cb2",
   "metadata": {},
   "outputs": [],
   "source": [
    "import pandas as pd"
   ]
  },
  {
   "cell_type": "code",
   "execution_count": 3,
   "id": "de66c6bb",
   "metadata": {},
   "outputs": [],
   "source": [
    "df = pd.DataFrame({'name':['Karl','Angela','Mira'], 'age':[12,15,18] })"
   ]
  },
  {
   "cell_type": "code",
   "execution_count": 4,
   "id": "538b9859",
   "metadata": {},
   "outputs": [],
   "source": [
    "mean_age=df['age'].mean()"
   ]
  },
  {
   "cell_type": "code",
   "execution_count": 5,
   "id": "aa787d15",
   "metadata": {},
   "outputs": [
    {
     "name": "stdout",
     "output_type": "stream",
     "text": [
      "15.0\n"
     ]
    }
   ],
   "source": [
    "print (mean_age)"
   ]
  },
  {
   "cell_type": "code",
   "execution_count": null,
   "id": "433e4fa7",
   "metadata": {},
   "outputs": [],
   "source": []
  }
 ],
 "metadata": {
  "kernelspec": {
   "display_name": "Python 3",
   "language": "python",
   "name": "python3"
  },
  "language_info": {
   "codemirror_mode": {
    "name": "ipython",
    "version": 3
   },
   "file_extension": ".py",
   "mimetype": "text/x-python",
   "name": "python",
   "nbconvert_exporter": "python",
   "pygments_lexer": "ipython3",
   "version": "3.8.8"
  }
 },
 "nbformat": 4,
 "nbformat_minor": 5
}
